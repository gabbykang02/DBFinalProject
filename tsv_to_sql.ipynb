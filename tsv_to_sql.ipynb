{
 "cells": [
  {
   "cell_type": "code",
   "execution_count": 86,
   "metadata": {},
   "outputs": [],
   "source": [
    "import pandas as pd"
   ]
  },
  {
   "cell_type": "code",
   "execution_count": 87,
   "metadata": {},
   "outputs": [],
   "source": [
    "data = pd.read_csv('gameSales.csv')\n",
    "f = open(\"gamesales.sql\", \"a\")\n"
   ]
  },
  {
   "cell_type": "code",
   "execution_count": 88,
   "metadata": {},
   "outputs": [
    {
     "name": "stdout",
     "output_type": "stream",
     "text": [
      "   Unnamed: 0                                            img  \\\n",
      "0           3  /games/boxart/full_3351915AmericaFrontccc.jpg   \n",
      "1           4  /games/boxart/full_5741036AmericaFrontccc.jpg   \n",
      "2           5  /games/boxart/full_6662824AmericaFrontccc.png   \n",
      "3           6  /games/boxart/full_6510540AmericaFrontccc.jpg   \n",
      "\n",
      "                title console   genre                    publisher  \\\n",
      "0            Warriors  Series  Action                      Unknown   \n",
      "1          God of War  Series  Action  Sony Computer Entertainment   \n",
      "2       Devil May Cry  Series  Action                       Capcom   \n",
      "3  Grand Theft Auto V     PS3  Action               Rockstar Games   \n",
      "\n",
      "                                           developer  vg_score  critic_score  \\\n",
      "0                                        Omega Force       NaN           NaN   \n",
      "1  SIE Santa Monica Studio|Ready at Dawn|Javagrou...       NaN           NaN   \n",
      "2                                Capcom|Ninja Theory       NaN           NaN   \n",
      "3                                     Rockstar North       NaN           9.4   \n",
      "\n",
      "   user_score  total_shipped  total_sales  na_sales  jp_sales  pal_sales  \\\n",
      "0         NaN          42.06          NaN       NaN       NaN        NaN   \n",
      "1         NaN          35.05          NaN       NaN       NaN        NaN   \n",
      "2         NaN          22.00          NaN       NaN       NaN        NaN   \n",
      "3         NaN            NaN        20.32      6.37      0.99       9.85   \n",
      "\n",
      "   other_sales release_date last_update  \n",
      "0          NaN          NaN  2020-03-24  \n",
      "1          NaN   2005-03-22  2020-03-04  \n",
      "2          NaN   2001-10-16  2020-02-03  \n",
      "3         3.12   2013-09-17         NaN  \n"
     ]
    },
    {
     "data": {
      "text/plain": [
       "'\\nf.write(\"INSERT INTO Crew VALUES (\"%s\", \"%s\", \"%s\");\" % (data[\"tconst\"], data[\"directors\"], data[\"writers\"]))\\nf.write(\"INSERT INTO Episodes VALUES (\"%s\", \"%s\", %s, %s);\" % (row[\"tconst\"], row[\"parentTconst\"], row[\"seasonNumber\"], row[\"episodeNumber\"]))\\nf.write(\"INSERT INTO Ratings VALUES (\"%s\", %s, %s);\" % (data[\"tconst\"], data[\"averageRating\"], data[\"numVotes\"]))\\nf.write(\"INSERT INTO Principals VALUES (\"%s\", \"%s\", %s, \"%s\",\"%s\");\" % (data[\"tconst\"], data[\"nconst\"], data[\"ordering\"], data[\"job\"], data[\"characters\"]))\\n'"
      ]
     },
     "execution_count": 88,
     "metadata": {},
     "output_type": "execute_result"
    }
   ],
   "source": [
    "data = data.replace('\\\\N', None)\n",
    "print(data.head(4))\n",
    "\n",
    "\"\"\"\n",
    "f.write(\"INSERT INTO Crew VALUES (\\\"%s\\\", \\\"%s\\\", \\\"%s\\\");\" % (data[\"tconst\"], data[\"directors\"], data[\"writers\"]))\n",
    "f.write(\"INSERT INTO Episodes VALUES (\\\"%s\\\", \\\"%s\\\", %s, %s);\" % (row[\"tconst\"], row[\"parentTconst\"], row[\"seasonNumber\"], row[\"episodeNumber\"]))\n",
    "f.write(\"INSERT INTO Ratings VALUES (\\\"%s\\\", %s, %s);\" % (data[\"tconst\"], data[\"averageRating\"], data[\"numVotes\"]))\n",
    "f.write(\"INSERT INTO Principals VALUES (\\\"%s\\\", \\\"%s\\\", %s, \\\"%s\\\",\\\"%s\\\");\" % (data[\"tconst\"], data[\"nconst\"], data[\"ordering\"], data[\"job\"], data[\"characters\"]))\n",
    "\"\"\""
   ]
  },
  {
   "cell_type": "code",
   "execution_count": 89,
   "metadata": {},
   "outputs": [
    {
     "name": "stdout",
     "output_type": "stream",
     "text": [
      "0\n",
      "10000\n",
      "20000\n",
      "30000\n",
      "40000\n",
      "50000\n"
     ]
    }
   ],
   "source": [
    "for index, row in data.iterrows():\n",
    "    if (index % 10000 == 0):\n",
    "        print(index)\n",
    "    #f.write('INSERT INTO TwitchGames VALUES(\\\"%s\\\", %s,  %s, %s, %s, \\\"%s\\\", %s, %s, %s);' % (row[\"Game\"], row[\"Watch time (mins)\"], row[\"Stream time (mins)\"], row[\"Peak viewers\"], row[\"Peak channels\"], row[\"Streamers\"], row[\"Average viewers\"], row[\"Average channels\"], row[\"Average viewer ratio\"]))\n",
    "    #f.write('INSERT INTO TwitchWatched VALUES(\\\"%s\\\", %s, %s, %s, %s, %s, %s, %s, %s, \\\"%s\\\");' % (row[\"Channel\"], row[\"Watch time (mins)\"], row[\"Stream time (mins)\"], row[\"Peak viewers\"], row[\"Average viewers\"], row[\"Followers\"], row[\"Followers gained\"], row[\"Partnered\"], row[\"Mature\"], row[\"Language\"]))\n",
    "    #f.write('INSERT INTO TwitchStats VALUES(\\\"%s\\\", %s,  %s, %s, %s, %s, %s, %s, %s. %s);' % (row[\"Month\"], row[\"Hours watched (mins)\"], row[\"Average viewers\"], row[\"Peak viewers\"], row[\"Average channels\"], row[\"Peak channels\"], row[\"Hours streamed (mins)\"], row[\"Games streamed\"], row[\"Active affiliates\"], row[\"Active partners\"]))\n",
    "    #f.write('INSERT INTO Metacritic VALUES(\\\"%s\\\", %s, \\\"%s\\\", \\\"%s\\, %s, \\\"%s\\\"\");' % (row[\"name\"], row[\"meta_score\"], row[\"platform\"], row[\"release_date\"], row[\"user_review\"], row[\"summary\"]))\n",
    "    #f.write('INSERT INTO GameSales VALUES(\\\"%s\\\", \\\"%s\\\", \\\"%s\\\", \\\"%s\\\", \\\"%s\\\", %s, %s, %s, %s, %s, %s, \\\"%s\\\", \\\"%s\\\");' % (row[\"title\"], row[\"console\"], row[\"genre\"], row[\"publisher\"], row[\"developer\"], row[\"vg_score\"], row[\"user_score\"], row[\"total_sales\"], row[\"na_sales\"], row[\"jp_sales\"], row[\"other_sales\"], row[\"release_date\"], row[\"last_update\"]) )\n",
    "    \n",
    "    #f.write(\"INSERT INTO Episodes VALUES (\\\"%s\\\", \\\"%s\\\", %s, %s);\" % (row[\"tconst\"], row[\"parentTconst\"], row[\"seasonNumber\"], row[\"episodeNumber\"]))\n",
    "    #f.write(\"INSERT INTO Principals VALUES (\\\"%s\\\", \\\"%s\\\", %s, \\\"%s\\\",\\\"%s\\\");\" % (row[\"tconst\"], row[\"nconst\"], row[\"ordering\"], row[\"job\"], row[\"characters\"]))\n",
    "    #f.write(\"INSERT INTO Ratings VALUES (\\\"%s\\\", %s, %s);\" % (row[\"tconst\"], row[\"averageRating\"], row[\"numVotes\"]))\n",
    "    #f.write(\"INSERT INTO Crew VALUES (\\\"%s\\\", \\\"%s\\\", \\\"%s\\\");\" % (row[\"tconst\"], row[\"directors\"], row[\"writers\"]))\n",
    "    #f.write(\"INSERT INTO TitleTranslated VALUES (\\\"%s\\\", \\\"%s\\\", \\\"%s\\\", \\\"%s\\\", \\\"%s\\\", %s);\" % (row[\"titleId\"], row[\"title\"], row[\"region\"], row[\"language\"], row[\"types\"], row[\"isOriginalTitle\"]))\n",
    "    \n",
    "    #f.write(\"INSERT INTO TitleInfo VALUES (\\\"%s\\\", \\\"%s\\\", \\\"%s\\\", \\\"%s\\\", %s, %s, %s, \\\"%s\\\");\" % (row[\"tconst\"], row[\"titleType\"], row[\"primaryTitle\"], row[\"originalTitle\"], row[\"startYear\"], row[\"endYear\"], row[\"runtimeMinutes\"], row[\"genres\"]))\n",
    "    #f.write(\"INSERT INTO Basics VALUES (\\\"%s\\\", \\\"%s\\\", %s, %s, \\\"%s\\\", \\\"%s\\\");\" % (row[\"nconst\"], row[\"primaryName\"], row[\"birthYear\"], row[\"deathYear\"], row[\"primaryProfession\"], row[\"knownForTitles\"]))\n",
    "f.close()"
   ]
  }
 ],
 "metadata": {
  "kernelspec": {
   "display_name": "Python 3.9.12 ('base')",
   "language": "python",
   "name": "python3"
  },
  "language_info": {
   "codemirror_mode": {
    "name": "ipython",
    "version": 3
   },
   "file_extension": ".py",
   "mimetype": "text/x-python",
   "name": "python",
   "nbconvert_exporter": "python",
   "pygments_lexer": "ipython3",
   "version": "3.9.12"
  },
  "orig_nbformat": 4,
  "vscode": {
   "interpreter": {
    "hash": "e31837aca1fa43e18117719ca397dcbb9a59a1ad4b77b110511c3afab9fb32c7"
   }
  }
 },
 "nbformat": 4,
 "nbformat_minor": 2
}
