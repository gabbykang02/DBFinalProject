{
 "cells": [
  {
   "cell_type": "code",
   "execution_count": 1,
   "metadata": {},
   "outputs": [],
   "source": [
    "import pandas as pd\n",
    "import numpy as np"
   ]
  },
  {
   "cell_type": "code",
   "execution_count": 2,
   "metadata": {},
   "outputs": [],
   "source": [
    "data = pd.read_csv('raw_data/metacritic.csv')         # Load csv file\n",
    "#data = pd.read_csv('raw_data/imdb_titleInfo.tsv', sep='\\t')    # Load tsv file\n",
    "# Open sql file for writing\n",
    "f = open(\"insert_files/metacritic.sql\", \"a\")\n",
    "\n",
    "iterate_all = True         # Set True to iterate through whole file, False to iterate through halft"
   ]
  },
  {
   "cell_type": "code",
   "execution_count": 3,
   "metadata": {},
   "outputs": [
    {
     "name": "stdout",
     "output_type": "stream",
     "text": [
      "                                   name        platform        release_date  \\\n",
      "0  The Legend of Zelda: Ocarina of Time     Nintendo 64   November 23, 1998   \n",
      "1              Tony Hawk's Pro Skater 2     PlayStation  September 20, 2000   \n",
      "2                   Grand Theft Auto IV   PlayStation 3      April 29, 2008   \n",
      "3                           SoulCalibur       Dreamcast   September 8, 1999   \n",
      "\n",
      "                                             summary  meta_score user_review  \n",
      "0  As a young boy, Link is tricked by Ganondorf, ...          99         9.1  \n",
      "1  As most major publishers' development efforts ...          98         7.4  \n",
      "2  [Metacritic's 2008 PS3 Game of the Year; Also ...          98         7.7  \n",
      "3  This is a tale of souls and swords, transcendi...          98         8.4  \n"
     ]
    }
   ],
   "source": [
    "# Remove special characters\n",
    "data = data.replace('\\\\N', 'NULL')\n",
    "data = data.replace(np.nan, 'NULL')\n",
    "data = data.replace('\\'', ' ')\n",
    "data = data.replace(';', '.')\n",
    "data = data.replace('nbd', 'NULL')\n",
    "\n",
    "\n",
    "# Visualize first 4 rows\n",
    "print(data.head(4))\n",
    "\n",
    "for index in range(data.shape[0]):\n",
    "    row = data.iloc[index][3]\n",
    "    try:\n",
    "        data.iloc[index, 3] = row.replace(\"\\\"\", \"\")\n",
    "        data.iloc[index, 3] = row.replace(\"\\'\", \"\")\n",
    "    except:\n",
    "        row = None\n"
   ]
  },
  {
   "cell_type": "code",
   "execution_count": 9,
   "metadata": {},
   "outputs": [
    {
     "name": "stdout",
     "output_type": "stream",
     "text": [
      "[Metacritic's 2008 PS3 Game of the Year; Also known as \"GTA IV\"] What does the American Dream mean today? For Niko Belic, fresh off the boat from Europe. It's the hope he can escape his past. For his cousin, Roman, it is the vision that together they can find fortune in Liberty City, gateway to the land of opportunity. As they slip into debt and are dragged into a criminal underworld by a series of shysters, thieves and sociopaths, they discover that the reality is very different from the dream in a city that worships money and status, and is heaven for those who have them an a living nightmare for those who don't. [Rockstar Games]\n"
     ]
    }
   ],
   "source": [
    "print(data.iloc[2, 3])"
   ]
  },
  {
   "cell_type": "code",
   "execution_count": 4,
   "metadata": {},
   "outputs": [
    {
     "name": "stdout",
     "output_type": "stream",
     "text": [
      "0\n",
      "10000\n"
     ]
    }
   ],
   "source": [
    "# Write INSERT statements to .sql file. Uncomment one write statement at a time\n",
    "if (iterate_all):\n",
    "    for index, row in data.iterrows():\n",
    "        if (index % 10000 == 0):\n",
    "            print(index)\n",
    "        #f.write('INSERT INTO TwitchGames VALUES(\\\"%s\\\", %s,  %s, %s, %s, \\\"%s\\\", %s, %s, %s);\\n' % (row[\"Game\"], row[\"Watch time (mins)\"], row[\"Stream time (mins)\"], row[\"Peak viewers\"], row[\"Peak channels\"], row[\"Streamers\"], row[\"Average viewers\"], row[\"Average channels\"], row[\"Average viewer ratio\"]))\n",
    "        #f.write('INSERT INTO TwitchWatched VALUES(\\\"%s\\\", %s, %s, %s, %s, %s, %s, %s, %s, \\\"%s\\\");\\n' % (row[\"Channel\"], row[\"Watch time (mins)\"], row[\"Stream time (mins)\"], row[\"Peak viewers\"], row[\"Average viewers\"], row[\"Followers\"], row[\"Followers gained\"], row[\"Partnered\"], row[\"Mature\"], row[\"Language\"]))\n",
    "        # f.write('INSERT INTO TwitchStats VALUES(\\\"%s\\\", %s,  %s, %s, %s, %s, %s, %s, %s, %s);\\n' % (row[\"Month\"], row[\"Hours watched (mins)\"], row[\"Average viewers\"], row[\"Peak viewers\"], row[\"Average channels\"], row[\"Peak channels\"], row[\"Hours streamed (mins)\"], row[\"Games streamed\"], row[\"Active affiliates\"], row[\"Active partners\"]))\n",
    "        f.write('INSERT INTO Metacritic VALUES(\\\"%s\\\", %s, \\\"%s\\\", \\\"%s\\\", %s, \\\"%s\\\");\\n' % (row[\"name\"], row[\"meta_score\"], row[\"platform\"], row[\"release_date\"], row[\"user_review\"], row[\"summary\"]))\n",
    "        # f.write('INSERT INTO GameSales VALUES(\\\"%s\\\", \\\"%s\\\", \\\"%s\\\", \\\"%s\\\", \\\"%s\\\", %s, %s, %s, %s, %s, %s, \\\"%s\\\", \\\"%s\\\");\\n' % (row[\"title\"], row[\"console\"], row[\"genre\"], row[\"publisher\"], row[\"developer\"], row[\"vg_score\"], row[\"user_score\"], row[\"total_sales\"], row[\"na_sales\"], row[\"jp_sales\"], row[\"other_sales\"], row[\"release_date\"], row[\"last_update\"]) )\n",
    "        \n",
    "        #f.write(\"INSERT INTO Episodes VALUES (\\\"%s\\\", \\\"%s\\\", %s, %s);\\n\" % (row[\"tconst\"], row[\"parentTconst\"], row[\"seasonNumber\"], row[\"episodeNumber\"]))\n",
    "        #f.write(\"INSERT INTO Principals VALUES (\\\"%s\\\", \\\"%s\\\", %s, \\\"%s\\\",\\\"%s\\\");\\n\" % (row[\"tconst\"], row[\"nconst\"], row[\"ordering\"], row[\"job\"], row[\"characters\"]))\n",
    "        #f.write(\"INSERT INTO Ratings VALUES (\\\"%s\\\", %s, %s);\\n\" % (row[\"tconst\"], row[\"averageRating\"], row[\"numVotes\"]))\n",
    "        #f.write(\"INSERT INTO Crew VALUES (\\\"%s\\\", \\\"%s\\\", \\\"%s\\\");\\n\" % (row[\"tconst\"], row[\"directors\"], row[\"writers\"]))\n",
    "        #f.write(\"INSERT INTO TitleTranslated VALUES (\\\"%s\\\", \\\"%s\\\", \\\"%s\\\", \\\"%s\\\", \\\"%s\\\", %s);\\n\" % (row[\"titleId\"], row[\"title\"], row[\"region\"], row[\"language\"], row[\"types\"], row[\"isOriginalTitle\"]))\n",
    "        #f.write(\"INSERT INTO TitleInfo VALUES (\\\"%s\\\", \\\"%s\\\", \\\"%s\\\", \\\"%s\\\", %s, %s, %s, \\\"%s\\\");\\n\" % (row[\"tconst\"], row[\"titleType\"], row[\"primaryTitle\"], row[\"originalTitle\"], row[\"startYear\"], row[\"endYear\"], row[\"runtimeMinutes\"], row[\"genres\"]))\n",
    "        #f.write(\"INSERT INTO Basics VALUES (\\\"%s\\\", \\\"%s\\\", %s, %s, \\\"%s\\\", \\\"%s\\\");\\n\" % (row[\"nconst\"], row[\"primaryName\"], row[\"birthYear\"], row[\"deathYear\"], row[\"primaryProfession\"], row[\"knownForTitles\"]))\n",
    "    f.close()\n",
    "else:\n",
    "    for idx in range(int(data.shape[0] * 99/100), data.shape[0]):\n",
    "        if (idx % 10000 == 0):\n",
    "            print(idx)\n",
    "        row = data.iloc[idx]\n",
    "        #f.write(\"INSERT INTO Basics VALUES (\\\"%s\\\", \\\"%s\\\", %s, %s, \\\"%s\\\", \\\"%s\\\");\\n\" % (row[\"nconst\"], row[\"primaryName\"], row[\"birthYear\"], row[\"deathYear\"], row[\"primaryProfession\"], row[\"knownForTitles\"]))\n",
    "        #f.write(\"INSERT INTO Episodes VALUES (\\\"%s\\\", \\\"%s\\\", %s, %s);\\n\" % (row[\"tconst\"], row[\"parentTconst\"], row[\"seasonNumber\"], row[\"episodeNumber\"]))\n",
    "        #summart = row[\"characters\"]\n",
    "        #summart = summart.replace(\"\\\"\", \"\")\n",
    "        #summart = summart.replace(\"\\'\", \"\")\n",
    "        #f.write(\"INSERT INTO Principals VALUES (\\\"%s\\\", \\\"%s\\\", %s, \\\"%s\\\",\\\"%s\\\");\\n\" % (row[\"tconst\"], row[\"nconst\"], row[\"ordering\"], row[\"job\"], summart))\n",
    "        #f.write(\"INSERT INTO Ratings VALUES (\\\"%s\\\", %s, %s);\\n\" % (row[\"tconst\"], row[\"averageRating\"], row[\"numVotes\"]))\n",
    "        #f.write(\"INSERT INTO Crew VALUES (\\\"%s\\\", \\\"%s\\\", \\\"%s\\\");\\n\" % (row[\"tconst\"], row[\"directors\"], row[\"writers\"]))\n",
    "        #summart = row[\"title\"]\n",
    "        #summart = summart.replace(\"\\\"\", \"\")\n",
    "        #summart = summart.replace(\"\\'\", \"\")\n",
    "        #f.write(\"INSERT INTO TitleTranslated VALUES (\\\"%s\\\", \\\"%s\\\", \\\"%s\\\", \\\"%s\\\", \\\"%s\\\", %s);\\n\" % (row[\"titleId\"], summart, row[\"region\"], row[\"language\"], row[\"types\"], row[\"isOriginalTitle\"]))\n",
    "        summart = row[\"primaryTitle\"]\n",
    "        summart = summart.replace(\"\\\"\", \"\")\n",
    "        summart = summart.replace(\"\\'\", \"\")\n",
    "        summar = row[\"originalTitle\"]\n",
    "        summar = summar.replace(\"\\\"\", \"\")\n",
    "        summar = summar.replace(\"\\'\", \"\")\n",
    "        f.write(\"INSERT INTO TitleInfo VALUES (\\\"%s\\\", \\\"%s\\\", \\\"%s\\\", \\\"%s\\\", %s, %s, %s, \\\"%s\\\");\\n\" % (row[\"tconst\"], row[\"titleType\"], summart, summar, row[\"startYear\"], row[\"endYear\"], row[\"runtimeMinutes\"], row[\"genres\"]))\n",
    "        \n",
    "    f.close()"
   ]
  },
  {
   "cell_type": "code",
   "execution_count": 5,
   "metadata": {},
   "outputs": [],
   "source": [
    "f.close()"
   ]
  }
 ],
 "metadata": {
  "kernelspec": {
   "display_name": "Python 3.9.12 ('base')",
   "language": "python",
   "name": "python3"
  },
  "language_info": {
   "codemirror_mode": {
    "name": "ipython",
    "version": 3
   },
   "file_extension": ".py",
   "mimetype": "text/x-python",
   "name": "python",
   "nbconvert_exporter": "python",
   "pygments_lexer": "ipython3",
   "version": "3.9.12"
  },
  "orig_nbformat": 4,
  "vscode": {
   "interpreter": {
    "hash": "e31837aca1fa43e18117719ca397dcbb9a59a1ad4b77b110511c3afab9fb32c7"
   }
  }
 },
 "nbformat": 4,
 "nbformat_minor": 2
}
