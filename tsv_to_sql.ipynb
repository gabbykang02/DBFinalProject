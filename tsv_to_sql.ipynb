{
 "cells": [
  {
   "cell_type": "code",
   "execution_count": 11,
   "metadata": {},
   "outputs": [],
   "source": [
    "import pandas as pd\n",
    "import numpy as np"
   ]
  },
  {
   "cell_type": "code",
   "execution_count": 12,
   "metadata": {},
   "outputs": [
    {
     "name": "stderr",
     "output_type": "stream",
     "text": [
      "/var/folders/83/761853p107sghgvs7qdbv_940000gn/T/ipykernel_47904/1383259529.py:2: DtypeWarning: Columns (4) have mixed types. Specify dtype option on import or set low_memory=False.\n",
      "  data = pd.read_csv('raw_data/imdb_titleInfo.tsv', sep='\\t')    # Load tsv file\n"
     ]
    }
   ],
   "source": [
    "#data = pd.read_csv('raw_data/twitchWatched.csv')         # Load csv file\n",
    "data = pd.read_csv('raw_data/imdb_titleInfo.tsv', sep='\\t')    # Load tsv file\n",
    "# Open sql file for writing\n",
    "f = open(\"insert_files/imdb_titleInfo_small.sql\", \"a\")\n",
    "\n",
    "iterate_all = False         # Set True to iterate through whole file, False to iterate through halft"
   ]
  },
  {
   "cell_type": "code",
   "execution_count": 13,
   "metadata": {},
   "outputs": [
    {
     "name": "stdout",
     "output_type": "stream",
     "text": [
      "      tconst titleType            primaryTitle           originalTitle  \\\n",
      "0  tt0000001     short              Carmencita              Carmencita   \n",
      "1  tt0000002     short  Le clown et ses chiens  Le clown et ses chiens   \n",
      "2  tt0000003     short          Pauvre Pierrot          Pauvre Pierrot   \n",
      "3  tt0000004     short             Un bon bock             Un bon bock   \n",
      "\n",
      "  isAdult startYear endYear runtimeMinutes                    genres  \n",
      "0       0      1894    NULL              1         Documentary,Short  \n",
      "1       0      1892    NULL              5           Animation,Short  \n",
      "2       0      1892    NULL              4  Animation,Comedy,Romance  \n",
      "3       0      1892    NULL             12           Animation,Short  \n"
     ]
    },
    {
     "data": {
      "text/plain": [
       "'\\nfor index in range(data.shape[0]):\\n    row = data.iloc[index][4]\\n    try:\\n        data.iloc[index, 4] = row.replace(\"\"\", \"\")\\n        data.iloc[index, 4] = row.replace(\"\\'\", \"\")\\n    except:\\n        row = None\\n'"
      ]
     },
     "execution_count": 13,
     "metadata": {},
     "output_type": "execute_result"
    }
   ],
   "source": [
    "# Remove special characters\n",
    "data = data.replace('\\\\N', 'NULL')\n",
    "data = data.replace(np.nan, 'NULL')\n",
    "data = data.replace('\\'', ' ')\n",
    "data = data.replace(';', '.')\n",
    "data = data.replace('nbd', 'NULL')\n",
    "\n",
    "\n",
    "# Visualize first 4 rows\n",
    "print(data.head(4))\n",
    "\"\"\"\n",
    "for index in range(data.shape[0]):\n",
    "    row = data.iloc[index][4]\n",
    "    try:\n",
    "        data.iloc[index, 4] = row.replace(\"\\\"\", \"\")\n",
    "        data.iloc[index, 4] = row.replace(\"\\'\", \"\")\n",
    "    except:\n",
    "        row = None\n",
    "\"\"\""
   ]
  },
  {
   "cell_type": "code",
   "execution_count": 14,
   "metadata": {},
   "outputs": [
    {
     "name": "stdout",
     "output_type": "stream",
     "text": [
      "9320000\n",
      "9330000\n",
      "9340000\n",
      "9350000\n",
      "9360000\n",
      "9370000\n",
      "9380000\n",
      "9390000\n",
      "9400000\n"
     ]
    }
   ],
   "source": [
    "# Write INSERT statements to .sql file. Uncomment one write statement at a time\n",
    "if (iterate_all):\n",
    "    for index, row in data.iterrows():\n",
    "        if (index % 10000 == 0):\n",
    "            print(index)\n",
    "        #f.write('INSERT INTO TwitchGames VALUES(\\\"%s\\\", %s,  %s, %s, %s, \\\"%s\\\", %s, %s, %s);\\n' % (row[\"Game\"], row[\"Watch time (mins)\"], row[\"Stream time (mins)\"], row[\"Peak viewers\"], row[\"Peak channels\"], row[\"Streamers\"], row[\"Average viewers\"], row[\"Average channels\"], row[\"Average viewer ratio\"]))\n",
    "        f.write('INSERT INTO TwitchWatched VALUES(\\\"%s\\\", %s, %s, %s, %s, %s, %s, %s, %s, \\\"%s\\\");\\n' % (row[\"Channel\"], row[\"Watch time (mins)\"], row[\"Stream time (mins)\"], row[\"Peak viewers\"], row[\"Average viewers\"], row[\"Followers\"], row[\"Followers gained\"], row[\"Partnered\"], row[\"Mature\"], row[\"Language\"]))\n",
    "        # f.write('INSERT INTO TwitchStats VALUES(\\\"%s\\\", %s,  %s, %s, %s, %s, %s, %s, %s, %s);\\n' % (row[\"Month\"], row[\"Hours watched (mins)\"], row[\"Average viewers\"], row[\"Peak viewers\"], row[\"Average channels\"], row[\"Peak channels\"], row[\"Hours streamed (mins)\"], row[\"Games streamed\"], row[\"Active affiliates\"], row[\"Active partners\"]))\n",
    "        #f.write('INSERT INTO Metacritic VALUES(\\\"%s\\\", %s, \\\"%s\\\", \\\"%s\\\", %s, \\\"%s\\\");\\n' % (row[\"name\"], row[\"meta_score\"], row[\"platform\"], row[\"release_date\"], row[\"user_review\"], row[\"summary\"]))\n",
    "        # f.write('INSERT INTO GameSales VALUES(\\\"%s\\\", \\\"%s\\\", \\\"%s\\\", \\\"%s\\\", \\\"%s\\\", %s, %s, %s, %s, %s, %s, \\\"%s\\\", \\\"%s\\\");\\n' % (row[\"title\"], row[\"console\"], row[\"genre\"], row[\"publisher\"], row[\"developer\"], row[\"vg_score\"], row[\"user_score\"], row[\"total_sales\"], row[\"na_sales\"], row[\"jp_sales\"], row[\"other_sales\"], row[\"release_date\"], row[\"last_update\"]) )\n",
    "        \n",
    "        #f.write(\"INSERT INTO Episodes VALUES (\\\"%s\\\", \\\"%s\\\", %s, %s);\\n\" % (row[\"tconst\"], row[\"parentTconst\"], row[\"seasonNumber\"], row[\"episodeNumber\"]))\n",
    "        #f.write(\"INSERT INTO Principals VALUES (\\\"%s\\\", \\\"%s\\\", %s, \\\"%s\\\",\\\"%s\\\");\\n\" % (row[\"tconst\"], row[\"nconst\"], row[\"ordering\"], row[\"job\"], row[\"characters\"]))\n",
    "        #f.write(\"INSERT INTO Ratings VALUES (\\\"%s\\\", %s, %s);\\n\" % (row[\"tconst\"], row[\"averageRating\"], row[\"numVotes\"]))\n",
    "        #f.write(\"INSERT INTO Crew VALUES (\\\"%s\\\", \\\"%s\\\", \\\"%s\\\");\\n\" % (row[\"tconst\"], row[\"directors\"], row[\"writers\"]))\n",
    "        #f.write(\"INSERT INTO TitleTranslated VALUES (\\\"%s\\\", \\\"%s\\\", \\\"%s\\\", \\\"%s\\\", \\\"%s\\\", %s);\\n\" % (row[\"titleId\"], row[\"title\"], row[\"region\"], row[\"language\"], row[\"types\"], row[\"isOriginalTitle\"]))\n",
    "        #f.write(\"INSERT INTO TitleInfo VALUES (\\\"%s\\\", \\\"%s\\\", \\\"%s\\\", \\\"%s\\\", %s, %s, %s, \\\"%s\\\");\\n\" % (row[\"tconst\"], row[\"titleType\"], row[\"primaryTitle\"], row[\"originalTitle\"], row[\"startYear\"], row[\"endYear\"], row[\"runtimeMinutes\"], row[\"genres\"]))\n",
    "        #f.write(\"INSERT INTO Basics VALUES (\\\"%s\\\", \\\"%s\\\", %s, %s, \\\"%s\\\", \\\"%s\\\");\\n\" % (row[\"nconst\"], row[\"primaryName\"], row[\"birthYear\"], row[\"deathYear\"], row[\"primaryProfession\"], row[\"knownForTitles\"]))\n",
    "    f.close()\n",
    "else:\n",
    "    for idx in range(int(data.shape[0] * 99/100), data.shape[0]):\n",
    "        if (idx % 10000 == 0):\n",
    "            print(idx)\n",
    "        row = data.iloc[idx]\n",
    "        #f.write(\"INSERT INTO Basics VALUES (\\\"%s\\\", \\\"%s\\\", %s, %s, \\\"%s\\\", \\\"%s\\\");\\n\" % (row[\"nconst\"], row[\"primaryName\"], row[\"birthYear\"], row[\"deathYear\"], row[\"primaryProfession\"], row[\"knownForTitles\"]))\n",
    "        #f.write(\"INSERT INTO Episodes VALUES (\\\"%s\\\", \\\"%s\\\", %s, %s);\\n\" % (row[\"tconst\"], row[\"parentTconst\"], row[\"seasonNumber\"], row[\"episodeNumber\"]))\n",
    "        #summart = row[\"characters\"]\n",
    "        #summart = summart.replace(\"\\\"\", \"\")\n",
    "        #summart = summart.replace(\"\\'\", \"\")\n",
    "        #f.write(\"INSERT INTO Principals VALUES (\\\"%s\\\", \\\"%s\\\", %s, \\\"%s\\\",\\\"%s\\\");\\n\" % (row[\"tconst\"], row[\"nconst\"], row[\"ordering\"], row[\"job\"], summart))\n",
    "        #f.write(\"INSERT INTO Ratings VALUES (\\\"%s\\\", %s, %s);\\n\" % (row[\"tconst\"], row[\"averageRating\"], row[\"numVotes\"]))\n",
    "        #f.write(\"INSERT INTO Crew VALUES (\\\"%s\\\", \\\"%s\\\", \\\"%s\\\");\\n\" % (row[\"tconst\"], row[\"directors\"], row[\"writers\"]))\n",
    "        #summart = row[\"title\"]\n",
    "        #summart = summart.replace(\"\\\"\", \"\")\n",
    "        #summart = summart.replace(\"\\'\", \"\")\n",
    "        #f.write(\"INSERT INTO TitleTranslated VALUES (\\\"%s\\\", \\\"%s\\\", \\\"%s\\\", \\\"%s\\\", \\\"%s\\\", %s);\\n\" % (row[\"titleId\"], summart, row[\"region\"], row[\"language\"], row[\"types\"], row[\"isOriginalTitle\"]))\n",
    "        summart = row[\"primaryTitle\"]\n",
    "        summart = summart.replace(\"\\\"\", \"\")\n",
    "        summart = summart.replace(\"\\'\", \"\")\n",
    "        summar = row[\"originalTitle\"]\n",
    "        summar = summar.replace(\"\\\"\", \"\")\n",
    "        summar = summar.replace(\"\\'\", \"\")\n",
    "        f.write(\"INSERT INTO TitleInfo VALUES (\\\"%s\\\", \\\"%s\\\", \\\"%s\\\", \\\"%s\\\", %s, %s, %s, \\\"%s\\\");\\n\" % (row[\"tconst\"], row[\"titleType\"], summart, summar, row[\"startYear\"], row[\"endYear\"], row[\"runtimeMinutes\"], row[\"genres\"]))\n",
    "        \n",
    "    f.close()"
   ]
  },
  {
   "cell_type": "code",
   "execution_count": 15,
   "metadata": {},
   "outputs": [],
   "source": [
    "f.close()"
   ]
  }
 ],
 "metadata": {
  "kernelspec": {
   "display_name": "Python 3.9.12 ('base')",
   "language": "python",
   "name": "python3"
  },
  "language_info": {
   "codemirror_mode": {
    "name": "ipython",
    "version": 3
   },
   "file_extension": ".py",
   "mimetype": "text/x-python",
   "name": "python",
   "nbconvert_exporter": "python",
   "pygments_lexer": "ipython3",
   "version": "3.9.12"
  },
  "orig_nbformat": 4,
  "vscode": {
   "interpreter": {
    "hash": "e31837aca1fa43e18117719ca397dcbb9a59a1ad4b77b110511c3afab9fb32c7"
   }
  }
 },
 "nbformat": 4,
 "nbformat_minor": 2
}
