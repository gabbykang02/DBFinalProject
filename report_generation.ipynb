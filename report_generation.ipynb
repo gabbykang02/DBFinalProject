{
 "cells": [
  {
   "cell_type": "code",
   "execution_count": null,
   "metadata": {},
   "outputs": [],
   "source": [
    "import pandas as pd\n",
    "import sys\n",
    "import pymysql"
   ]
  },
  {
   "cell_type": "code",
   "execution_count": null,
   "metadata": {},
   "outputs": [],
   "source": [
    "try: con = mariadb.connect( \n",
    "    user=\"22fa_gkang9\", \n",
    "    password=\"o8sVqdtzqE\", \n",
    "    host=\"dbase.cs.jhu.edu \", \n",
    "    port=3306, \n",
    "    database=\"22fa_gkang9_db\" \n",
    ")\n",
    "except mariadb.Error as ex: \n",
    "    print(f\"An error occurred while connecting to MariaDB: {ex}\") \n",
    "    sys.exit(1) "
   ]
  }
 ],
 "metadata": {
  "language_info": {
   "name": "python"
  },
  "orig_nbformat": 4
 },
 "nbformat": 4,
 "nbformat_minor": 2
}
