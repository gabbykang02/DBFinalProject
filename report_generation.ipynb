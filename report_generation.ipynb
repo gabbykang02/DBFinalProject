{
 "cells": [
  {
   "cell_type": "code",
   "execution_count": null,
   "metadata": {},
   "outputs": [],
   "source": [
    "import pandas as pd\n",
    "import sys\n",
    "import pymysql"
   ]
  },
  {
   "cell_type": "code",
   "execution_count": null,
   "metadata": {},
   "outputs": [],
   "source": [
    "try: con = mariadb.connect( \n",
    "    user=\"22fa_gkang9\", \n",
    "    password=\"\", \n",
    "    host=\"dbase.cs.jhu.edu\", \n",
    "    port=3306, \n",
    "    database=\"22fa_gkang9_db\" \n",
    ")\n",
    "except mariadb.Error as ex: \n",
    "    print(f\"An error occurred while connecting to MariaDB: {ex}\") \n",
    "    sys.exit(1) "
   ]
  }
 ],
 "metadata": {
  "kernelspec": {
   "display_name": "Python 3.9.12 ('base')",
   "language": "python",
   "name": "python3"
  },
  "language_info": {
   "name": "python",
   "version": "3.9.12"
  },
  "orig_nbformat": 4,
  "vscode": {
   "interpreter": {
    "hash": "e31837aca1fa43e18117719ca397dcbb9a59a1ad4b77b110511c3afab9fb32c7"
   }
  }
 },
 "nbformat": 4,
 "nbformat_minor": 2
}
